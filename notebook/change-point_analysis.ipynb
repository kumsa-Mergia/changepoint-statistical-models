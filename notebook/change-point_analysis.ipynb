{
 "cells": [
  {
   "cell_type": "markdown",
   "id": "b90b0687",
   "metadata": {},
   "source": [
    "-----------------------------\n",
    "🧱 Imports \n",
    "-----------------------------"
   ]
  },
  {
   "cell_type": "code",
   "execution_count": null,
   "id": "72df437d",
   "metadata": {},
   "outputs": [],
   "source": [
    "import pandas as pd\n",
    "import numpy as np\n",
    "import pymc as pm\n",
    "import matplotlib.pyplot as plt\n",
    "import arviz as az"
   ]
  },
  {
   "cell_type": "markdown",
   "id": "cb9045ea",
   "metadata": {},
   "source": [
    "# Load the pre-processed data"
   ]
  },
  {
   "cell_type": "code",
   "execution_count": null,
   "id": "eea9681e",
   "metadata": {},
   "outputs": [],
   "source": [
    "df = pd.read_csv(\"../data/BrentOilPrices.csv\")"
   ]
  },
  {
   "cell_type": "code",
   "execution_count": null,
   "id": "a960ccb6",
   "metadata": {},
   "outputs": [],
   "source": [
    "df['Date'] = pd.to_datetime(df['Date'], format='%d-%b-%y', errors='coerce')\n",
    "df.set_index('Date', inplace=True)\n",
    "df['Log_Return'] = np.log(df['Price']) - np.log(df['Price'].shift(1))\n",
    "df.dropna(inplace=True)\n",
    "log_returns = df['Log_Return'].values\n",
    "n = len(log_returns)"
   ]
  },
  {
   "cell_type": "markdown",
   "id": "854ea9fe",
   "metadata": {},
   "source": [
    "# Define and Sample Bayesian Change Point Model"
   ]
  },
  {
   "cell_type": "code",
   "execution_count": null,
   "id": "969bbd1a",
   "metadata": {},
   "outputs": [],
   "source": [
    "with pm.Model() as model:\n",
    "    # Change point\n",
    "    tau = pm.DiscreteUniform('tau', lower=0, upper=n - 1)\n",
    "\n",
    "    # Means before and after the change point\n",
    "    mu_1 = pm.Normal('mu_1', mu=0, sigma=1)\n",
    "    mu_2 = pm.Normal('mu_2', mu=0, sigma=1)\n",
    "\n",
    "    # Shared standard deviation\n",
    "    sigma = pm.Exponential('sigma', lam=1.0)\n",
    "\n",
    "    # Index array\n",
    "    idx = np.arange(n)\n",
    "\n",
    "    # Piecewise mean\n",
    "    mu = pm.math.switch(tau > idx, mu_1, mu_2)\n",
    "\n",
    "    # Likelihood\n",
    "    obs = pm.Normal('obs', mu=mu, sigma=sigma, observed=log_returns)\n",
    "\n",
    "    # Sampling\n",
    "    trace = pm.sample(2000, tune=1000, return_inferencedata=True)\n"
   ]
  },
  {
   "cell_type": "markdown",
   "id": "2abc89a4",
   "metadata": {},
   "source": [
    "# Trace Plots and Summary"
   ]
  },
  {
   "cell_type": "code",
   "execution_count": null,
   "id": "090dd6c6",
   "metadata": {},
   "outputs": [],
   "source": [
    "az.plot_trace(trace)\n",
    "plt.show()"
   ]
  },
  {
   "cell_type": "markdown",
   "id": "959b18c9",
   "metadata": {},
   "source": [
    "# Posterior of tau"
   ]
  },
  {
   "cell_type": "code",
   "execution_count": null,
   "id": "bffb4294",
   "metadata": {},
   "outputs": [],
   "source": [
    "az.plot_posterior(trace, var_names=[\"tau\"])\n",
    "plt.title(\"Posterior Distribution of Change Point (tau)\")\n",
    "plt.show()"
   ]
  },
  {
   "cell_type": "markdown",
   "id": "28a18cca",
   "metadata": {},
   "source": [
    "# Summary and Impact"
   ]
  },
  {
   "cell_type": "code",
   "execution_count": null,
   "id": "fd66c656",
   "metadata": {},
   "outputs": [],
   "source": [
    "summary = az.summary(trace)\n",
    "tau_mean = int(trace.posterior['tau'].mean().values)\n",
    "date_of_change = df.index[tau_mean]\n",
    "\n",
    "mu_1 = trace.posterior['mu_1'].mean().values\n",
    "mu_2 = trace.posterior['mu_2'].mean().values\n",
    "change_pct = ((mu_2 - mu_1) / abs(mu_1)) * 100\n",
    "\n",
    "print(f\"Change Point Date: {date_of_change}\")\n",
    "print(f\"Mean Before: {mu_1:.5f}, Mean After: {mu_2:.5f}\")\n",
    "print(f\"Approximate change: {change_pct:.2f}%\")"
   ]
  }
 ],
 "metadata": {
  "kernelspec": {
   "display_name": "venv",
   "language": "python",
   "name": "python3"
  },
  "language_info": {
   "codemirror_mode": {
    "name": "ipython",
    "version": 3
   },
   "file_extension": ".py",
   "mimetype": "text/x-python",
   "name": "python",
   "nbconvert_exporter": "python",
   "pygments_lexer": "ipython3",
   "version": "3.12.3"
  }
 },
 "nbformat": 4,
 "nbformat_minor": 5
}
